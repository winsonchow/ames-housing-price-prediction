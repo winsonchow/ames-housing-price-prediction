{
 "cells": [
  {
   "cell_type": "markdown",
   "metadata": {},
   "source": [
    "# 1 Introduction to Project"
   ]
  },
  {
   "cell_type": "markdown",
   "metadata": {},
   "source": [
    "## 1.1 Overview\n",
    "\n",
    "The real estate market plays a critical role in the economy, with the sale price of homes often serving as a key indicator of market conditions. Accurate predictions of housing prices are important for a variety of stakeholders, including home buyers, sellers, and real estate professionals. In this project, we aim to develop a machine learning model that can accurately predict the sale price of homes based on a variety of features about the properties and the local real estate market. Our objectives are to identify the most important factors that influence housing prices and to evaluate the performance of the model using metrics such as mean squared error and mean absolute error. To achieve these goals, we will use a dataset containing information on a wide range of residential properties in Ames, Iowa, collected between 2006 and 2010.\n",
    "\n",
    "In this Python machine learning project, I will be using Python libraries matplotlib, numpy, pandas, seaborn, scipy and scikit-learn to analyse and visualise the dataset. I will also be exploring various regression models such as linear regression, random forest, gradient boosted trees and support vector machine.\n",
    "\n",
    "In this project, what I am doing is something like:\n",
    "1. Understanding the problem. I will examine every variable and conduct a philosophical examination of their significance for this issue.\n",
    "2. Data cleaning. I will be clean the datatset, perform feature and label extraction and feature scaling.\n",
    "3. Univariable study. I will analysing the dependent variable - SalePrice.\n",
    "4. Multivariate study. I will be analysing how SalePrice relate to other independent variables.\n",
    "5. Building the regression model, model evaluation and comparsion.\n",
    "\n",
    "Now, let's take a deeper dive into our dataset."
   ]
  },
  {
   "cell_type": "markdown",
   "metadata": {},
   "source": [
    "## 1.2 References\n",
    "\n",
    "***\n",
    "- Title: Ames housing dataset\n",
    "- Author: -\n",
    "- Date accessed: 4 Jan 2023\n",
    "- Availability: https://www.kaggle.com/competitions/house-prices-advanced-regression-techniques/data\n",
    "***\n",
    "- Title: Comprehensive data exploration with Python\n",
    "- Author: PEDRO MARCELINO\n",
    "- Date accessed: 4 Jan 2023\n",
    "- Availability: https://www.kaggle.com/code/pmarcelino/comprehensive-data-exploration-with-python#'SalePrice',-her-buddies-and-her-interests\n",
    "***\n",
    "- Title: Practical Introduction to 10 Regression Algorithm\n",
    "- Author: FARES SAYAH\n",
    "- Date accessed: 4 Jan 2023\n",
    "- Availability: https://www.kaggle.com/code/faressayah/practical-introduction-to-10-regression-algorithm#📊-Models-Comparison\n",
    "***\n",
    "- Title: How to interpret MAE (simply explained)\n",
    "- Author: Stephen Allwright\n",
    "- Date accessed: 4 Jan 2023\n",
    "- Availability: https://stephenallwright.com/interpret-mae/\n",
    "***\n",
    "- Title: Mean Squared Error: Definition and Example\n",
    "- Author: -\n",
    "- Date accessed: 4 Jan 2023\n",
    "- Availability: https://www.statisticshowto.com/probability-and-statistics/statistics-definitions/mean-squared-error/\n",
    "***\n",
    "- Title: RMSE: Root Mean Square Error\n",
    "- Author: -\n",
    "- Date accessed: 4 Jan 2023\n",
    "- Availability: https://www.statisticshowto.com/probability-and-statistics/regression-analysis/rmse-root-mean-square-error/\n",
    "***\n",
    "- Title: Multicollinearity in Regression Analysis: Problems, Detection, and Solutions\n",
    "- Author: Jim Frost\n",
    "- Date accessed: 4 Jan 2023\n",
    "- Availability: https://statisticsbyjim.com/regression/multicollinearity-in-regression-analysis/\n",
    "***\n",
    "- Title: How to Solve Reproducibility in ML\n",
    "- Author: Ejiro Onose\n",
    "- Date accessed: 4 Jan 2023\n",
    "- Availability: https://neptune.ai/blog/how-to-solve-reproducibility-in-ml\n",
    "***"
   ]
  },
  {
   "cell_type": "markdown",
   "metadata": {},
   "source": [
    "# 2 Description of Dataset\n",
    "\n",
    "The Ames Housing dataset is a collection of detailed housing-related data compiled by Dean De Cock for use in data science education. The dataset includes information on homes sold in Ames, Iowa between 2006 and 2010, and includes 79 variables describing various aspects of the homes, such as the sale price, the size of the home, the number of bedrooms and bathrooms, and various other features. The data was collected from a variety of sources, including public records and real estate listings. The dataset is organized into a tabular format with one row per home and one column per variable. It is widely used in machine learning research and is often used as a benchmark for evaluating the performance of models to predict housing prices. The dataset can be accessed via the Kaggle official website.\n",
    "\n",
    "The dataset includes 81 features (columns) describing a wide range of characteristics of 1,460 homes (rows) in Ames, Lowa sold between 2006 and 2010. The CSV file is 463KB in size.\n",
    "\n",
    "We can examine each variable to try to grasp its significance and relation to this issue in order to understand our data. Although this takes a lot of time, it will give us a sense of our dataset.\n",
    "\n",
    "To be more methodical in our analysis, we split our data into two categories:\n",
    "- Categorical\n",
    "- Numerical\n",
    "\n",
    "A categorical variable is a variable with a finite, typically set range of potential values that designates each individual or other unit of observation to a specific group or nominal category based on some qualitative attribute. It is represent as a string. Numerical data can is expressed as numbers rather than in any linguistic or descriptive form. It is also known as quantitative data, and can be calculated mathematically and statistically. It is represented as a float. Missing data is represented with NA in the dataset, which we will be cleaning up when pre-processing the data.\n",
    "\n",
    "---"
   ]
  },
  {
   "cell_type": "markdown",
   "metadata": {},
   "source": [
    "# 3 Project Objectives"
   ]
  },
  {
   "cell_type": "markdown",
   "metadata": {},
   "source": [
    "## 3.1 Objectives\n",
    "\n",
    "The aim of a housing price machine learning project would likely be to build a model that can predict the sale price of a home given a set of features about the home and the local real estate market. The objectives of the project might include:\n",
    "\n",
    "- Developing a model that can make accurate predictions about housing prices.\n",
    "- Identifying the most important features that influence housing prices, such as the size of the home, the location, and the condition of the property.\n",
    "- Evaluating the performance of the model using metrics such as mean squared error or mean absolute error.\n",
    "- Fine-tuning the model to improve its performance by adjusting the model architecture, adjusting the hyperparameters, or adding additional data.\n",
    "- Deploying the model in a web application or other tool that can be used by real estate professionals or individual home buyers and sellers to predict housing prices."
   ]
  },
  {
   "cell_type": "markdown",
   "metadata": {},
   "source": [
    "## 3.2 Impact and Contribution\n",
    "\n",
    "A housing price prediction model could have a number of impacts and contributions, depending on how it is used and who uses it. Some potential impacts and contributions of a housing price machine learning project could include:\n",
    "\n",
    "- Providing a useful tool for real estate professionals to help them determine the value of properties and make informed decisions when buying or selling homes.\n",
    "- Helping home buyers and sellers to get a better understanding of the market value of a home, which could help them to make more informed decisions when negotiating the sale or purchase price of a property.\n",
    "- Improving the efficiency of the real estate market by providing a more accurate and objective way of determining the value of a home, rather than relying on subjective opinions or incomplete data.\n",
    "- Providing a basis for further research into the factors that influence housing prices and how they interact with one another.\n",
    "- Potentially leading to the development of other machine learning models that can be used to predict other outcomes in the real estate market, such as rental prices or demand for properties in a particular area.\n",
    "\n",
    "---"
   ]
  },
  {
   "cell_type": "markdown",
   "metadata": {},
   "source": [
    "# 4 Data Preprocessing"
   ]
  },
  {
   "cell_type": "markdown",
   "metadata": {},
   "source": [
    "## 4.1 Overview of the Data"
   ]
  },
  {
   "cell_type": "code",
   "execution_count": 1,
   "metadata": {},
   "outputs": [],
   "source": [
    "# General imports for data handling\n",
    "import numpy as np\n",
    "import pandas as pd\n",
    "\n",
    "# Scikit-learn imports for machine learning models\n",
    "from sklearn.linear_model import LinearRegression\n",
    "from sklearn.ensemble import RandomForestRegressor, GradientBoostingRegressor\n",
    "from sklearn.svm import SVR\n",
    "\n",
    "# Additional utilities from scikit-learn\n",
    "from sklearn.model_selection import train_test_split\n",
    "from sklearn.metrics import mean_squared_error, r2_score\n",
    "from sklearn.preprocessing import StandardScaler  # If feature scaling is needed\n"
   ]
  },
  {
   "cell_type": "code",
   "execution_count": 2,
   "metadata": {},
   "outputs": [],
   "source": [
    "# Get data from CSV file\n",
    "housing = pd.read_csv('AmesHousing.csv')"
   ]
  },
  {
   "cell_type": "code",
   "execution_count": 3,
   "metadata": {},
   "outputs": [
    {
     "data": {
      "text/html": [
       "<div>\n",
       "<style scoped>\n",
       "    .dataframe tbody tr th:only-of-type {\n",
       "        vertical-align: middle;\n",
       "    }\n",
       "\n",
       "    .dataframe tbody tr th {\n",
       "        vertical-align: top;\n",
       "    }\n",
       "\n",
       "    .dataframe thead th {\n",
       "        text-align: right;\n",
       "    }\n",
       "</style>\n",
       "<table border=\"1\" class=\"dataframe\">\n",
       "  <thead>\n",
       "    <tr style=\"text-align: right;\">\n",
       "      <th></th>\n",
       "      <th>Id</th>\n",
       "      <th>PID</th>\n",
       "      <th>MS SubClass</th>\n",
       "      <th>MS Zoning</th>\n",
       "      <th>Lot Frontage</th>\n",
       "      <th>Lot Area</th>\n",
       "      <th>Street</th>\n",
       "      <th>Alley</th>\n",
       "      <th>Lot Shape</th>\n",
       "      <th>Land Contour</th>\n",
       "      <th>...</th>\n",
       "      <th>Pool Area</th>\n",
       "      <th>Pool QC</th>\n",
       "      <th>Fence</th>\n",
       "      <th>Misc Feature</th>\n",
       "      <th>Misc Val</th>\n",
       "      <th>Mo Sold</th>\n",
       "      <th>Yr Sold</th>\n",
       "      <th>Sale Type</th>\n",
       "      <th>Sale Condition</th>\n",
       "      <th>SalePrice</th>\n",
       "    </tr>\n",
       "  </thead>\n",
       "  <tbody>\n",
       "    <tr>\n",
       "      <th>0</th>\n",
       "      <td>1</td>\n",
       "      <td>526301100</td>\n",
       "      <td>20</td>\n",
       "      <td>RL</td>\n",
       "      <td>141.0</td>\n",
       "      <td>31770</td>\n",
       "      <td>Pave</td>\n",
       "      <td>NaN</td>\n",
       "      <td>IR1</td>\n",
       "      <td>Lvl</td>\n",
       "      <td>...</td>\n",
       "      <td>0</td>\n",
       "      <td>NaN</td>\n",
       "      <td>NaN</td>\n",
       "      <td>NaN</td>\n",
       "      <td>0</td>\n",
       "      <td>5</td>\n",
       "      <td>2010</td>\n",
       "      <td>WD</td>\n",
       "      <td>Normal</td>\n",
       "      <td>215000</td>\n",
       "    </tr>\n",
       "    <tr>\n",
       "      <th>1</th>\n",
       "      <td>2</td>\n",
       "      <td>526350040</td>\n",
       "      <td>20</td>\n",
       "      <td>RH</td>\n",
       "      <td>80.0</td>\n",
       "      <td>11622</td>\n",
       "      <td>Pave</td>\n",
       "      <td>NaN</td>\n",
       "      <td>Reg</td>\n",
       "      <td>Lvl</td>\n",
       "      <td>...</td>\n",
       "      <td>0</td>\n",
       "      <td>NaN</td>\n",
       "      <td>MnPrv</td>\n",
       "      <td>NaN</td>\n",
       "      <td>0</td>\n",
       "      <td>6</td>\n",
       "      <td>2010</td>\n",
       "      <td>WD</td>\n",
       "      <td>Normal</td>\n",
       "      <td>105000</td>\n",
       "    </tr>\n",
       "    <tr>\n",
       "      <th>2</th>\n",
       "      <td>3</td>\n",
       "      <td>526351010</td>\n",
       "      <td>20</td>\n",
       "      <td>RL</td>\n",
       "      <td>81.0</td>\n",
       "      <td>14267</td>\n",
       "      <td>Pave</td>\n",
       "      <td>NaN</td>\n",
       "      <td>IR1</td>\n",
       "      <td>Lvl</td>\n",
       "      <td>...</td>\n",
       "      <td>0</td>\n",
       "      <td>NaN</td>\n",
       "      <td>NaN</td>\n",
       "      <td>Gar2</td>\n",
       "      <td>12500</td>\n",
       "      <td>6</td>\n",
       "      <td>2010</td>\n",
       "      <td>WD</td>\n",
       "      <td>Normal</td>\n",
       "      <td>172000</td>\n",
       "    </tr>\n",
       "    <tr>\n",
       "      <th>3</th>\n",
       "      <td>4</td>\n",
       "      <td>526353030</td>\n",
       "      <td>20</td>\n",
       "      <td>RL</td>\n",
       "      <td>93.0</td>\n",
       "      <td>11160</td>\n",
       "      <td>Pave</td>\n",
       "      <td>NaN</td>\n",
       "      <td>Reg</td>\n",
       "      <td>Lvl</td>\n",
       "      <td>...</td>\n",
       "      <td>0</td>\n",
       "      <td>NaN</td>\n",
       "      <td>NaN</td>\n",
       "      <td>NaN</td>\n",
       "      <td>0</td>\n",
       "      <td>4</td>\n",
       "      <td>2010</td>\n",
       "      <td>WD</td>\n",
       "      <td>Normal</td>\n",
       "      <td>244000</td>\n",
       "    </tr>\n",
       "    <tr>\n",
       "      <th>4</th>\n",
       "      <td>5</td>\n",
       "      <td>527105010</td>\n",
       "      <td>60</td>\n",
       "      <td>RL</td>\n",
       "      <td>74.0</td>\n",
       "      <td>13830</td>\n",
       "      <td>Pave</td>\n",
       "      <td>NaN</td>\n",
       "      <td>IR1</td>\n",
       "      <td>Lvl</td>\n",
       "      <td>...</td>\n",
       "      <td>0</td>\n",
       "      <td>NaN</td>\n",
       "      <td>MnPrv</td>\n",
       "      <td>NaN</td>\n",
       "      <td>0</td>\n",
       "      <td>3</td>\n",
       "      <td>2010</td>\n",
       "      <td>WD</td>\n",
       "      <td>Normal</td>\n",
       "      <td>189900</td>\n",
       "    </tr>\n",
       "  </tbody>\n",
       "</table>\n",
       "<p>5 rows × 82 columns</p>\n",
       "</div>"
      ],
      "text/plain": [
       "   Id        PID  MS SubClass MS Zoning  Lot Frontage  Lot Area Street Alley  \\\n",
       "0   1  526301100           20        RL         141.0     31770   Pave   NaN   \n",
       "1   2  526350040           20        RH          80.0     11622   Pave   NaN   \n",
       "2   3  526351010           20        RL          81.0     14267   Pave   NaN   \n",
       "3   4  526353030           20        RL          93.0     11160   Pave   NaN   \n",
       "4   5  527105010           60        RL          74.0     13830   Pave   NaN   \n",
       "\n",
       "  Lot Shape Land Contour  ... Pool Area Pool QC  Fence Misc Feature Misc Val  \\\n",
       "0       IR1          Lvl  ...         0     NaN    NaN          NaN        0   \n",
       "1       Reg          Lvl  ...         0     NaN  MnPrv          NaN        0   \n",
       "2       IR1          Lvl  ...         0     NaN    NaN         Gar2    12500   \n",
       "3       Reg          Lvl  ...         0     NaN    NaN          NaN        0   \n",
       "4       IR1          Lvl  ...         0     NaN  MnPrv          NaN        0   \n",
       "\n",
       "  Mo Sold Yr Sold Sale Type  Sale Condition  SalePrice  \n",
       "0       5    2010       WD           Normal     215000  \n",
       "1       6    2010       WD           Normal     105000  \n",
       "2       6    2010       WD           Normal     172000  \n",
       "3       4    2010       WD           Normal     244000  \n",
       "4       3    2010       WD           Normal     189900  \n",
       "\n",
       "[5 rows x 82 columns]"
      ]
     },
     "execution_count": 3,
     "metadata": {},
     "output_type": "execute_result"
    }
   ],
   "source": [
    "# Display the first 5 rows of the data\n",
    "housing.head()"
   ]
  },
  {
   "cell_type": "code",
   "execution_count": 4,
   "metadata": {},
   "outputs": [
    {
     "data": {
      "text/plain": [
       "Index(['Id', 'PID', 'MS SubClass', 'MS Zoning', 'Lot Frontage', 'Lot Area',\n",
       "       'Street', 'Alley', 'Lot Shape', 'Land Contour', 'Utilities',\n",
       "       'Lot Config', 'Land Slope', 'Neighborhood', 'Condition 1',\n",
       "       'Condition 2', 'Bldg Type', 'House Style', 'Overall Qual',\n",
       "       'Overall Cond', 'Year Built', 'Year Remod/Add', 'Roof Style',\n",
       "       'Roof Matl', 'Exterior 1st', 'Exterior 2nd', 'Mas Vnr Type',\n",
       "       'Mas Vnr Area', 'Exter Qual', 'Exter Cond', 'Foundation', 'Bsmt Qual',\n",
       "       'Bsmt Cond', 'Bsmt Exposure', 'BsmtFin Type 1', 'BsmtFin SF 1',\n",
       "       'BsmtFin Type 2', 'BsmtFin SF 2', 'Bsmt Unf SF', 'Total Bsmt SF',\n",
       "       'Heating', 'Heating QC', 'Central Air', 'Electrical', '1st Flr SF',\n",
       "       '2nd Flr SF', 'Low Qual Fin SF', 'Gr Liv Area', 'Bsmt Full Bath',\n",
       "       'Bsmt Half Bath', 'Full Bath', 'Half Bath', 'Bedroom AbvGr',\n",
       "       'Kitchen AbvGr', 'Kitchen Qual', 'TotRms AbvGrd', 'Functional',\n",
       "       'Fireplaces', 'Fireplace Qu', 'Garage Type', 'Garage Yr Blt',\n",
       "       'Garage Finish', 'Garage Cars', 'Garage Area', 'Garage Qual',\n",
       "       'Garage Cond', 'Paved Drive', 'Wood Deck SF', 'Open Porch SF',\n",
       "       'Enclosed Porch', '3Ssn Porch', 'Screen Porch', 'Pool Area', 'Pool QC',\n",
       "       'Fence', 'Misc Feature', 'Misc Val', 'Mo Sold', 'Yr Sold', 'Sale Type',\n",
       "       'Sale Condition', 'SalePrice'],\n",
       "      dtype='object')"
      ]
     },
     "execution_count": 4,
     "metadata": {},
     "output_type": "execute_result"
    }
   ],
   "source": [
    "# Returns all the columns in the data\n",
    "housing.columns"
   ]
  },
  {
   "cell_type": "code",
   "execution_count": 5,
   "metadata": {},
   "outputs": [
    {
     "name": "stdout",
     "output_type": "stream",
     "text": [
      "Numerical features : 38\n",
      "Categorical features : 43\n"
     ]
    }
   ],
   "source": [
    "# Differentiate numerical features and categorical features\n",
    "categorical_features = housing.select_dtypes(include = [\"object\"]).columns\n",
    "numerical_features = housing.select_dtypes(exclude = [\"object\"]).columns\n",
    "numerical_features = numerical_features.drop(\"SalePrice\")\n",
    "\n",
    "print(\"Numerical features : \" + str(len(numerical_features)))\n",
    "print(\"Categorical features : \" + str(len(categorical_features)))"
   ]
  },
  {
   "cell_type": "code",
   "execution_count": 6,
   "metadata": {},
   "outputs": [
    {
     "name": "stdout",
     "output_type": "stream",
     "text": [
      "<class 'pandas.core.frame.DataFrame'>\n",
      "RangeIndex: 2930 entries, 0 to 2929\n",
      "Data columns (total 82 columns):\n",
      " #   Column           Non-Null Count  Dtype  \n",
      "---  ------           --------------  -----  \n",
      " 0   Id               2930 non-null   int64  \n",
      " 1   PID              2930 non-null   int64  \n",
      " 2   MS SubClass      2930 non-null   int64  \n",
      " 3   MS Zoning        2930 non-null   object \n",
      " 4   Lot Frontage     2440 non-null   float64\n",
      " 5   Lot Area         2930 non-null   int64  \n",
      " 6   Street           2930 non-null   object \n",
      " 7   Alley            198 non-null    object \n",
      " 8   Lot Shape        2930 non-null   object \n",
      " 9   Land Contour     2930 non-null   object \n",
      " 10  Utilities        2930 non-null   object \n",
      " 11  Lot Config       2930 non-null   object \n",
      " 12  Land Slope       2930 non-null   object \n",
      " 13  Neighborhood     2930 non-null   object \n",
      " 14  Condition 1      2930 non-null   object \n",
      " 15  Condition 2      2930 non-null   object \n",
      " 16  Bldg Type        2930 non-null   object \n",
      " 17  House Style      2930 non-null   object \n",
      " 18  Overall Qual     2930 non-null   int64  \n",
      " 19  Overall Cond     2930 non-null   int64  \n",
      " 20  Year Built       2930 non-null   int64  \n",
      " 21  Year Remod/Add   2930 non-null   int64  \n",
      " 22  Roof Style       2930 non-null   object \n",
      " 23  Roof Matl        2930 non-null   object \n",
      " 24  Exterior 1st     2930 non-null   object \n",
      " 25  Exterior 2nd     2930 non-null   object \n",
      " 26  Mas Vnr Type     1155 non-null   object \n",
      " 27  Mas Vnr Area     2907 non-null   float64\n",
      " 28  Exter Qual       2930 non-null   object \n",
      " 29  Exter Cond       2930 non-null   object \n",
      " 30  Foundation       2930 non-null   object \n",
      " 31  Bsmt Qual        2850 non-null   object \n",
      " 32  Bsmt Cond        2850 non-null   object \n",
      " 33  Bsmt Exposure    2847 non-null   object \n",
      " 34  BsmtFin Type 1   2850 non-null   object \n",
      " 35  BsmtFin SF 1     2929 non-null   float64\n",
      " 36  BsmtFin Type 2   2849 non-null   object \n",
      " 37  BsmtFin SF 2     2929 non-null   float64\n",
      " 38  Bsmt Unf SF      2929 non-null   float64\n",
      " 39  Total Bsmt SF    2929 non-null   float64\n",
      " 40  Heating          2930 non-null   object \n",
      " 41  Heating QC       2930 non-null   object \n",
      " 42  Central Air      2930 non-null   object \n",
      " 43  Electrical       2929 non-null   object \n",
      " 44  1st Flr SF       2930 non-null   int64  \n",
      " 45  2nd Flr SF       2930 non-null   int64  \n",
      " 46  Low Qual Fin SF  2930 non-null   int64  \n",
      " 47  Gr Liv Area      2930 non-null   int64  \n",
      " 48  Bsmt Full Bath   2928 non-null   float64\n",
      " 49  Bsmt Half Bath   2928 non-null   float64\n",
      " 50  Full Bath        2930 non-null   int64  \n",
      " 51  Half Bath        2930 non-null   int64  \n",
      " 52  Bedroom AbvGr    2930 non-null   int64  \n",
      " 53  Kitchen AbvGr    2930 non-null   int64  \n",
      " 54  Kitchen Qual     2930 non-null   object \n",
      " 55  TotRms AbvGrd    2930 non-null   int64  \n",
      " 56  Functional       2930 non-null   object \n",
      " 57  Fireplaces       2930 non-null   int64  \n",
      " 58  Fireplace Qu     1508 non-null   object \n",
      " 59  Garage Type      2773 non-null   object \n",
      " 60  Garage Yr Blt    2771 non-null   float64\n",
      " 61  Garage Finish    2771 non-null   object \n",
      " 62  Garage Cars      2929 non-null   float64\n",
      " 63  Garage Area      2929 non-null   float64\n",
      " 64  Garage Qual      2771 non-null   object \n",
      " 65  Garage Cond      2771 non-null   object \n",
      " 66  Paved Drive      2930 non-null   object \n",
      " 67  Wood Deck SF     2930 non-null   int64  \n",
      " 68  Open Porch SF    2930 non-null   int64  \n",
      " 69  Enclosed Porch   2930 non-null   int64  \n",
      " 70  3Ssn Porch       2930 non-null   int64  \n",
      " 71  Screen Porch     2930 non-null   int64  \n",
      " 72  Pool Area        2930 non-null   int64  \n",
      " 73  Pool QC          13 non-null     object \n",
      " 74  Fence            572 non-null    object \n",
      " 75  Misc Feature     106 non-null    object \n",
      " 76  Misc Val         2930 non-null   int64  \n",
      " 77  Mo Sold          2930 non-null   int64  \n",
      " 78  Yr Sold          2930 non-null   int64  \n",
      " 79  Sale Type        2930 non-null   object \n",
      " 80  Sale Condition   2930 non-null   object \n",
      " 81  SalePrice        2930 non-null   int64  \n",
      "dtypes: float64(11), int64(28), object(43)\n",
      "memory usage: 1.8+ MB\n"
     ]
    }
   ],
   "source": [
    "# Returns all the type of data of each variable\n",
    "housing.info()"
   ]
  },
  {
   "cell_type": "markdown",
   "metadata": {},
   "source": [
    "## 4.2 Checking for Duplicated Data"
   ]
  },
  {
   "cell_type": "markdown",
   "metadata": {},
   "source": [
    "First, lets check for duplicated data."
   ]
  },
  {
   "cell_type": "code",
   "execution_count": 7,
   "metadata": {},
   "outputs": [
    {
     "name": "stdout",
     "output_type": "stream",
     "text": [
      "There are 0 duplicate housings for 2930 total entries\n"
     ]
    }
   ],
   "source": [
    "# Check for duplicates\n",
    "uniqueEntries = len(set(housing.Id))\n",
    "totalEntries = housing.shape[0]\n",
    "duplicatedEntries = totalEntries - uniqueEntries\n",
    "\n",
    "print(\"There are \" + str(duplicatedEntries) + \" duplicate housings for \" + str(totalEntries) + \" total entries\")"
   ]
  },
  {
   "cell_type": "markdown",
   "metadata": {},
   "source": [
    "## 4.3 Checking for Missing Data"
   ]
  },
  {
   "cell_type": "markdown",
   "metadata": {},
   "source": [
    "It is a good practice to check for null values before processing any dataset. Missing values can diminish the statistical power of any dataset and may lead to bias result when training our machine learning model. Some machine learning models requires a specified input data, for instance, random forest does not support null values.\n",
    "\n",
    "Some things to consider when facing missing data:\n",
    "- How frequently are data missing? \n",
    "- Is there a pattern or randomness in the missing data? "
   ]
  },
  {
   "cell_type": "code",
   "execution_count": 8,
   "metadata": {},
   "outputs": [
    {
     "data": {
      "text/html": [
       "<div>\n",
       "<style scoped>\n",
       "    .dataframe tbody tr th:only-of-type {\n",
       "        vertical-align: middle;\n",
       "    }\n",
       "\n",
       "    .dataframe tbody tr th {\n",
       "        vertical-align: top;\n",
       "    }\n",
       "\n",
       "    .dataframe thead th {\n",
       "        text-align: right;\n",
       "    }\n",
       "</style>\n",
       "<table border=\"1\" class=\"dataframe\">\n",
       "  <thead>\n",
       "    <tr style=\"text-align: right;\">\n",
       "      <th></th>\n",
       "      <th>Total</th>\n",
       "      <th>Percent</th>\n",
       "    </tr>\n",
       "  </thead>\n",
       "  <tbody>\n",
       "    <tr>\n",
       "      <th>Pool QC</th>\n",
       "      <td>2917</td>\n",
       "      <td>0.995563</td>\n",
       "    </tr>\n",
       "    <tr>\n",
       "      <th>Misc Feature</th>\n",
       "      <td>2824</td>\n",
       "      <td>0.963823</td>\n",
       "    </tr>\n",
       "    <tr>\n",
       "      <th>Alley</th>\n",
       "      <td>2732</td>\n",
       "      <td>0.932423</td>\n",
       "    </tr>\n",
       "    <tr>\n",
       "      <th>Fence</th>\n",
       "      <td>2358</td>\n",
       "      <td>0.804778</td>\n",
       "    </tr>\n",
       "    <tr>\n",
       "      <th>Mas Vnr Type</th>\n",
       "      <td>1775</td>\n",
       "      <td>0.605802</td>\n",
       "    </tr>\n",
       "    <tr>\n",
       "      <th>Fireplace Qu</th>\n",
       "      <td>1422</td>\n",
       "      <td>0.485324</td>\n",
       "    </tr>\n",
       "    <tr>\n",
       "      <th>Lot Frontage</th>\n",
       "      <td>490</td>\n",
       "      <td>0.167235</td>\n",
       "    </tr>\n",
       "    <tr>\n",
       "      <th>Garage Cond</th>\n",
       "      <td>159</td>\n",
       "      <td>0.054266</td>\n",
       "    </tr>\n",
       "    <tr>\n",
       "      <th>Garage Finish</th>\n",
       "      <td>159</td>\n",
       "      <td>0.054266</td>\n",
       "    </tr>\n",
       "    <tr>\n",
       "      <th>Garage Yr Blt</th>\n",
       "      <td>159</td>\n",
       "      <td>0.054266</td>\n",
       "    </tr>\n",
       "    <tr>\n",
       "      <th>Garage Qual</th>\n",
       "      <td>159</td>\n",
       "      <td>0.054266</td>\n",
       "    </tr>\n",
       "    <tr>\n",
       "      <th>Garage Type</th>\n",
       "      <td>157</td>\n",
       "      <td>0.053584</td>\n",
       "    </tr>\n",
       "    <tr>\n",
       "      <th>Bsmt Exposure</th>\n",
       "      <td>83</td>\n",
       "      <td>0.028328</td>\n",
       "    </tr>\n",
       "    <tr>\n",
       "      <th>BsmtFin Type 2</th>\n",
       "      <td>81</td>\n",
       "      <td>0.027645</td>\n",
       "    </tr>\n",
       "    <tr>\n",
       "      <th>Bsmt Qual</th>\n",
       "      <td>80</td>\n",
       "      <td>0.027304</td>\n",
       "    </tr>\n",
       "    <tr>\n",
       "      <th>Bsmt Cond</th>\n",
       "      <td>80</td>\n",
       "      <td>0.027304</td>\n",
       "    </tr>\n",
       "    <tr>\n",
       "      <th>BsmtFin Type 1</th>\n",
       "      <td>80</td>\n",
       "      <td>0.027304</td>\n",
       "    </tr>\n",
       "    <tr>\n",
       "      <th>Mas Vnr Area</th>\n",
       "      <td>23</td>\n",
       "      <td>0.007850</td>\n",
       "    </tr>\n",
       "    <tr>\n",
       "      <th>Bsmt Full Bath</th>\n",
       "      <td>2</td>\n",
       "      <td>0.000683</td>\n",
       "    </tr>\n",
       "    <tr>\n",
       "      <th>Bsmt Half Bath</th>\n",
       "      <td>2</td>\n",
       "      <td>0.000683</td>\n",
       "    </tr>\n",
       "  </tbody>\n",
       "</table>\n",
       "</div>"
      ],
      "text/plain": [
       "                Total   Percent\n",
       "Pool QC          2917  0.995563\n",
       "Misc Feature     2824  0.963823\n",
       "Alley            2732  0.932423\n",
       "Fence            2358  0.804778\n",
       "Mas Vnr Type     1775  0.605802\n",
       "Fireplace Qu     1422  0.485324\n",
       "Lot Frontage      490  0.167235\n",
       "Garage Cond       159  0.054266\n",
       "Garage Finish     159  0.054266\n",
       "Garage Yr Blt     159  0.054266\n",
       "Garage Qual       159  0.054266\n",
       "Garage Type       157  0.053584\n",
       "Bsmt Exposure      83  0.028328\n",
       "BsmtFin Type 2     81  0.027645\n",
       "Bsmt Qual          80  0.027304\n",
       "Bsmt Cond          80  0.027304\n",
       "BsmtFin Type 1     80  0.027304\n",
       "Mas Vnr Area       23  0.007850\n",
       "Bsmt Full Bath      2  0.000683\n",
       "Bsmt Half Bath      2  0.000683"
      ]
     },
     "execution_count": 8,
     "metadata": {},
     "output_type": "execute_result"
    }
   ],
   "source": [
    "# Compute the total number and percentage of missing data per variable\n",
    "total = housing.isna().sum().sort_values(ascending=False)\n",
    "percent = (housing.isna().sum()/housing.isna().count()).sort_values(ascending=False)\n",
    "\n",
    "# Display in a table\n",
    "missing_data = pd.concat([total, percent], axis=1, keys=['Total', 'Percent'])\n",
    "missing_data.head(20)"
   ]
  },
  {
   "cell_type": "markdown",
   "metadata": {},
   "source": [
    "Lets analyse the results so we know how to deal with the missing data. We can see we are missing data in these areas:\n",
    "1. Pool quality\n",
    "2. Miscellaneous features\n",
    "3. Alley\n",
    "4. Fence\n",
    "5. Fireplace\n",
    "6. Linear feet of street connected to property\n",
    "7. Garage\n",
    "8. Basement\n",
    "9. Masonry\n",
    "10. Electrical\n",
    "\n",
    "\n",
    "There are two approaches we can take when dealing with missing data:\n",
    "- We omit the entire entry by removing the tuple from the dataset\n",
    "- We can ascribe the missing data with the mean or median of the dataset\n",
    "\n",
    "Lets look at the first four variables where we have more than 80% of the data missing. Since the assoicated data for that variable is almost non-existent, it would be ideal to remove it entirely as they only serve as being outliers in the dataset. Furthermore, it is likely pool quality, miscellaneous features, alley and fences are not aspects most people consider when purchasing a new house, which could explain the lack of data."
   ]
  },
  {
   "cell_type": "code",
   "execution_count": 9,
   "metadata": {},
   "outputs": [
    {
     "ename": "KeyError",
     "evalue": "\"['Pool QC', 'Misc Feature', 'Alley', 'Fence'] not found in axis\"",
     "output_type": "error",
     "traceback": [
      "\u001b[0;31m---------------------------------------------------------------------------\u001b[0m",
      "\u001b[0;31mKeyError\u001b[0m                                  Traceback (most recent call last)",
      "Cell \u001b[0;32mIn[9], line 2\u001b[0m\n\u001b[1;32m      1\u001b[0m \u001b[38;5;66;03m# Remove variables with more than 80% missing data\u001b[39;00m\n\u001b[0;32m----> 2\u001b[0m housing \u001b[38;5;241m=\u001b[39m \u001b[43mhousing\u001b[49m\u001b[38;5;241;43m.\u001b[39;49m\u001b[43mdrop\u001b[49m\u001b[43m(\u001b[49m\u001b[43m(\u001b[49m\u001b[43mmissing_data\u001b[49m\u001b[43m[\u001b[49m\u001b[43mmissing_data\u001b[49m\u001b[43m[\u001b[49m\u001b[38;5;124;43m'\u001b[39;49m\u001b[38;5;124;43mPercent\u001b[39;49m\u001b[38;5;124;43m'\u001b[39;49m\u001b[43m]\u001b[49m\u001b[43m \u001b[49m\u001b[38;5;241;43m>\u001b[39;49m\u001b[43m \u001b[49m\u001b[38;5;241;43m0.8\u001b[39;49m\u001b[43m]\u001b[49m\u001b[43m)\u001b[49m\u001b[38;5;241;43m.\u001b[39;49m\u001b[43mindex\u001b[49m\u001b[43m)\u001b[49m\n\u001b[1;32m      4\u001b[0m \u001b[38;5;66;03m# Remove the row with missing electrical data\u001b[39;00m\n\u001b[1;32m      5\u001b[0m housing \u001b[38;5;241m=\u001b[39m housing\u001b[38;5;241m.\u001b[39mdrop(housing\u001b[38;5;241m.\u001b[39mloc[housing[\u001b[38;5;124m'\u001b[39m\u001b[38;5;124mElectrical\u001b[39m\u001b[38;5;124m'\u001b[39m]\u001b[38;5;241m.\u001b[39misnull()]\u001b[38;5;241m.\u001b[39mindex)\n",
      "File \u001b[0;32m~/Documents/GitHub/ames_housing_price_prediction/venv/lib/python3.9/site-packages/pandas/core/frame.py:5581\u001b[0m, in \u001b[0;36mDataFrame.drop\u001b[0;34m(self, labels, axis, index, columns, level, inplace, errors)\u001b[0m\n\u001b[1;32m   5433\u001b[0m \u001b[38;5;28;01mdef\u001b[39;00m \u001b[38;5;21mdrop\u001b[39m(\n\u001b[1;32m   5434\u001b[0m     \u001b[38;5;28mself\u001b[39m,\n\u001b[1;32m   5435\u001b[0m     labels: IndexLabel \u001b[38;5;241m|\u001b[39m \u001b[38;5;28;01mNone\u001b[39;00m \u001b[38;5;241m=\u001b[39m \u001b[38;5;28;01mNone\u001b[39;00m,\n\u001b[0;32m   (...)\u001b[0m\n\u001b[1;32m   5442\u001b[0m     errors: IgnoreRaise \u001b[38;5;241m=\u001b[39m \u001b[38;5;124m\"\u001b[39m\u001b[38;5;124mraise\u001b[39m\u001b[38;5;124m\"\u001b[39m,\n\u001b[1;32m   5443\u001b[0m ) \u001b[38;5;241m-\u001b[39m\u001b[38;5;241m>\u001b[39m DataFrame \u001b[38;5;241m|\u001b[39m \u001b[38;5;28;01mNone\u001b[39;00m:\n\u001b[1;32m   5444\u001b[0m \u001b[38;5;250m    \u001b[39m\u001b[38;5;124;03m\"\"\"\u001b[39;00m\n\u001b[1;32m   5445\u001b[0m \u001b[38;5;124;03m    Drop specified labels from rows or columns.\u001b[39;00m\n\u001b[1;32m   5446\u001b[0m \n\u001b[0;32m   (...)\u001b[0m\n\u001b[1;32m   5579\u001b[0m \u001b[38;5;124;03m            weight  1.0     0.8\u001b[39;00m\n\u001b[1;32m   5580\u001b[0m \u001b[38;5;124;03m    \"\"\"\u001b[39;00m\n\u001b[0;32m-> 5581\u001b[0m     \u001b[38;5;28;01mreturn\u001b[39;00m \u001b[38;5;28;43msuper\u001b[39;49m\u001b[43m(\u001b[49m\u001b[43m)\u001b[49m\u001b[38;5;241;43m.\u001b[39;49m\u001b[43mdrop\u001b[49m\u001b[43m(\u001b[49m\n\u001b[1;32m   5582\u001b[0m \u001b[43m        \u001b[49m\u001b[43mlabels\u001b[49m\u001b[38;5;241;43m=\u001b[39;49m\u001b[43mlabels\u001b[49m\u001b[43m,\u001b[49m\n\u001b[1;32m   5583\u001b[0m \u001b[43m        \u001b[49m\u001b[43maxis\u001b[49m\u001b[38;5;241;43m=\u001b[39;49m\u001b[43maxis\u001b[49m\u001b[43m,\u001b[49m\n\u001b[1;32m   5584\u001b[0m \u001b[43m        \u001b[49m\u001b[43mindex\u001b[49m\u001b[38;5;241;43m=\u001b[39;49m\u001b[43mindex\u001b[49m\u001b[43m,\u001b[49m\n\u001b[1;32m   5585\u001b[0m \u001b[43m        \u001b[49m\u001b[43mcolumns\u001b[49m\u001b[38;5;241;43m=\u001b[39;49m\u001b[43mcolumns\u001b[49m\u001b[43m,\u001b[49m\n\u001b[1;32m   5586\u001b[0m \u001b[43m        \u001b[49m\u001b[43mlevel\u001b[49m\u001b[38;5;241;43m=\u001b[39;49m\u001b[43mlevel\u001b[49m\u001b[43m,\u001b[49m\n\u001b[1;32m   5587\u001b[0m \u001b[43m        \u001b[49m\u001b[43minplace\u001b[49m\u001b[38;5;241;43m=\u001b[39;49m\u001b[43minplace\u001b[49m\u001b[43m,\u001b[49m\n\u001b[1;32m   5588\u001b[0m \u001b[43m        \u001b[49m\u001b[43merrors\u001b[49m\u001b[38;5;241;43m=\u001b[39;49m\u001b[43merrors\u001b[49m\u001b[43m,\u001b[49m\n\u001b[1;32m   5589\u001b[0m \u001b[43m    \u001b[49m\u001b[43m)\u001b[49m\n",
      "File \u001b[0;32m~/Documents/GitHub/ames_housing_price_prediction/venv/lib/python3.9/site-packages/pandas/core/generic.py:4788\u001b[0m, in \u001b[0;36mNDFrame.drop\u001b[0;34m(self, labels, axis, index, columns, level, inplace, errors)\u001b[0m\n\u001b[1;32m   4786\u001b[0m \u001b[38;5;28;01mfor\u001b[39;00m axis, labels \u001b[38;5;129;01min\u001b[39;00m axes\u001b[38;5;241m.\u001b[39mitems():\n\u001b[1;32m   4787\u001b[0m     \u001b[38;5;28;01mif\u001b[39;00m labels \u001b[38;5;129;01mis\u001b[39;00m \u001b[38;5;129;01mnot\u001b[39;00m \u001b[38;5;28;01mNone\u001b[39;00m:\n\u001b[0;32m-> 4788\u001b[0m         obj \u001b[38;5;241m=\u001b[39m \u001b[43mobj\u001b[49m\u001b[38;5;241;43m.\u001b[39;49m\u001b[43m_drop_axis\u001b[49m\u001b[43m(\u001b[49m\u001b[43mlabels\u001b[49m\u001b[43m,\u001b[49m\u001b[43m \u001b[49m\u001b[43maxis\u001b[49m\u001b[43m,\u001b[49m\u001b[43m \u001b[49m\u001b[43mlevel\u001b[49m\u001b[38;5;241;43m=\u001b[39;49m\u001b[43mlevel\u001b[49m\u001b[43m,\u001b[49m\u001b[43m \u001b[49m\u001b[43merrors\u001b[49m\u001b[38;5;241;43m=\u001b[39;49m\u001b[43merrors\u001b[49m\u001b[43m)\u001b[49m\n\u001b[1;32m   4790\u001b[0m \u001b[38;5;28;01mif\u001b[39;00m inplace:\n\u001b[1;32m   4791\u001b[0m     \u001b[38;5;28mself\u001b[39m\u001b[38;5;241m.\u001b[39m_update_inplace(obj)\n",
      "File \u001b[0;32m~/Documents/GitHub/ames_housing_price_prediction/venv/lib/python3.9/site-packages/pandas/core/generic.py:4830\u001b[0m, in \u001b[0;36mNDFrame._drop_axis\u001b[0;34m(self, labels, axis, level, errors, only_slice)\u001b[0m\n\u001b[1;32m   4828\u001b[0m         new_axis \u001b[38;5;241m=\u001b[39m axis\u001b[38;5;241m.\u001b[39mdrop(labels, level\u001b[38;5;241m=\u001b[39mlevel, errors\u001b[38;5;241m=\u001b[39merrors)\n\u001b[1;32m   4829\u001b[0m     \u001b[38;5;28;01melse\u001b[39;00m:\n\u001b[0;32m-> 4830\u001b[0m         new_axis \u001b[38;5;241m=\u001b[39m \u001b[43maxis\u001b[49m\u001b[38;5;241;43m.\u001b[39;49m\u001b[43mdrop\u001b[49m\u001b[43m(\u001b[49m\u001b[43mlabels\u001b[49m\u001b[43m,\u001b[49m\u001b[43m \u001b[49m\u001b[43merrors\u001b[49m\u001b[38;5;241;43m=\u001b[39;49m\u001b[43merrors\u001b[49m\u001b[43m)\u001b[49m\n\u001b[1;32m   4831\u001b[0m     indexer \u001b[38;5;241m=\u001b[39m axis\u001b[38;5;241m.\u001b[39mget_indexer(new_axis)\n\u001b[1;32m   4833\u001b[0m \u001b[38;5;66;03m# Case for non-unique axis\u001b[39;00m\n\u001b[1;32m   4834\u001b[0m \u001b[38;5;28;01melse\u001b[39;00m:\n",
      "File \u001b[0;32m~/Documents/GitHub/ames_housing_price_prediction/venv/lib/python3.9/site-packages/pandas/core/indexes/base.py:7070\u001b[0m, in \u001b[0;36mIndex.drop\u001b[0;34m(self, labels, errors)\u001b[0m\n\u001b[1;32m   7068\u001b[0m \u001b[38;5;28;01mif\u001b[39;00m mask\u001b[38;5;241m.\u001b[39many():\n\u001b[1;32m   7069\u001b[0m     \u001b[38;5;28;01mif\u001b[39;00m errors \u001b[38;5;241m!=\u001b[39m \u001b[38;5;124m\"\u001b[39m\u001b[38;5;124mignore\u001b[39m\u001b[38;5;124m\"\u001b[39m:\n\u001b[0;32m-> 7070\u001b[0m         \u001b[38;5;28;01mraise\u001b[39;00m \u001b[38;5;167;01mKeyError\u001b[39;00m(\u001b[38;5;124mf\u001b[39m\u001b[38;5;124m\"\u001b[39m\u001b[38;5;132;01m{\u001b[39;00mlabels[mask]\u001b[38;5;241m.\u001b[39mtolist()\u001b[38;5;132;01m}\u001b[39;00m\u001b[38;5;124m not found in axis\u001b[39m\u001b[38;5;124m\"\u001b[39m)\n\u001b[1;32m   7071\u001b[0m     indexer \u001b[38;5;241m=\u001b[39m indexer[\u001b[38;5;241m~\u001b[39mmask]\n\u001b[1;32m   7072\u001b[0m \u001b[38;5;28;01mreturn\u001b[39;00m \u001b[38;5;28mself\u001b[39m\u001b[38;5;241m.\u001b[39mdelete(indexer)\n",
      "\u001b[0;31mKeyError\u001b[0m: \"['Pool QC', 'Misc Feature', 'Alley', 'Fence'] not found in axis\""
     ]
    }
   ],
   "source": [
    "# Remove variables with more than 80% missing data\n",
    "housing = housing.drop((missing_data[missing_data['Percent'] > 0.8]).index)\n",
    "\n",
    "# Remove the row with missing electrical data\n",
    "housing = housing.drop(housing.loc[housing['Electrical'].isnull()].index)\n",
    "\n",
    "# We will also dropping the ID column since we do not need it\n",
    "housing.drop(\"Id\", axis = 1, inplace = True)"
   ]
  },
  {
   "cell_type": "markdown",
   "metadata": {},
   "source": [
    "For the remaining features, we will be replacing all the null values with 0."
   ]
  },
  {
   "cell_type": "code",
   "execution_count": null,
   "metadata": {},
   "outputs": [],
   "source": [
    "housing.loc[:, \"FireplaceQu\"] = housing.loc[:, \"FireplaceQu\"].fillna(\"0\")\n",
    "housing.loc[:, \"LotFrontage\"] = housing.loc[:, \"LotFrontage\"].fillna(\"0\")\n",
    "housing.loc[:, \"GarageYrBlt\"] = housing.loc[:, \"GarageYrBlt\"].fillna(\"0\")\n",
    "housing.loc[:, \"GarageCond\"] = housing.loc[:, \"GarageCond\"].fillna(\"0\")\n",
    "housing.loc[:, \"GarageType\"] = housing.loc[:, \"GarageType\"].fillna(\"0\")\n",
    "housing.loc[:, \"GarageFinish\"] = housing.loc[:, \"GarageFinish\"].fillna(\"0\")\n",
    "housing.loc[:, \"GarageQual\"] = housing.loc[:, \"GarageQual\"].fillna(\"0\")\n",
    "housing.loc[:, \"BsmtFinType2\"] = housing.loc[:, \"BsmtFinType2\"].fillna(\"0\")\n",
    "housing.loc[:, \"BsmtExposure\"] = housing.loc[:, \"BsmtExposure\"].fillna(\"0\")\n",
    "housing.loc[:, \"BsmtQual\"] = housing.loc[:, \"BsmtQual\"].fillna(\"0\")\n",
    "housing.loc[:, \"BsmtCond\"] = housing.loc[:, \"BsmtCond\"].fillna(\"0\")\n",
    "housing.loc[:, \"BsmtFinType1\"] = housing.loc[:, \"BsmtFinType1\"].fillna(\"0\")\n",
    "housing.loc[:, \"MasVnrArea\"] = housing.loc[:, \"MasVnrArea\"].fillna(\"0\")\n",
    "housing.loc[:, \"MasVnrType\"] = housing.loc[:, \"MasVnrType\"].fillna(\"0\")"
   ]
  },
  {
   "cell_type": "markdown",
   "metadata": {},
   "source": [
    "## 4.4 Encoding Categorical Features"
   ]
  },
  {
   "cell_type": "markdown",
   "metadata": {},
   "source": [
    "Finally, we will be encoding the categorical features so the regression model is able to understand the data."
   ]
  },
  {
   "cell_type": "code",
   "execution_count": null,
   "metadata": {},
   "outputs": [],
   "source": [
    "# Encode the remaining categorical features\n",
    "housing = housing.replace({\n",
    "    \"MSZoning\" : {\"A\" : 1, \"C\" : 2, \"FV\" : 3, \"I\" : 4, \"RH\" : 5, \"RL\" : 6, \"RP\" : 7, \"RM\" : 8},\n",
    "    \"Street\" : {\"Grvl\" : 1, \"Pave\" : 2},\n",
    "    \"LotShape\" : {\"IR3\" : 1, \"IR2\" : 2, \"IR1\" : 3, \"Reg\" : 4},\n",
    "    \"LandContour\" : {\"Lvl\": 1, \"BnK\": 2, \"HLS\": 3, \"Low\": 4},\n",
    "    \"Utilities\" : {\"ELO\" : 1, \"NoSeWa\" : 2, \"NoSewr\" : 3, \"AllPub\" : 4},\n",
    "    \"LotConfig\" : {\"Inside\" : 1, \"Corner\" : 2, \"CulDSac\" : 3, \"FR2\" : 4, \"FR3\": 5},\n",
    "    \"LandSlope\" : {\"Sev\" : 1, \"Mod\" : 2, \"Gtl\" : 3},\n",
    "    \"Neighborhood\" : {\"Blmngtn\" : 1, \"Blueste\" : 2, \"BrDale\" : 3, \"BrkSide\" : 4, \"ClearCr\" : 5, \"CollgCr\" : 6, \"Crawfor\" : 7, \"Edwards\" : 8, \"Gilbert\" : 9, \"IDOTRR\" : 10, \"MeadowV\" : 11, \"Mitchel\" : 12, \"Names\" : 13, \"NoRidge\" : 14, \"NPkVill\" : 15, \"NridgHt\" : 16, \"NWAmes\" : 17, \"OldTown\" : 18, \"SWISU\" : 19, \"Sawyer\" : 20, \"SawyerW\" : 21, \"Somerst\" : 22, \"StoneBr\" : 23, \"Timber\" : 24, \"Veenker\" : 25},\n",
    "    \"Condition1\" : {\"Artery\" : 1, \"Feedr\" : 2, \"Norm\" : 3, \"RRNn\" : 4, \"RRAn\" : 5, \"PosN\" : 6, \"PosA\" : 7, \"RRNe\" : 8, \"RRAe\" : 9},\n",
    "    \"Condition2\" : {\"Artery\" : 1, \"Feedr\" : 2, \"Norm\" : 3, \"RRNn\" : 4, \"RRAn\" : 5, \"PosN\" : 6, \"PosA\" : 7, \"RRNe\" : 8, \"RRAe\" : 9},\n",
    "    \"BldgType\" : {\"1Fam\" : 1, \"2FmCon\" : 2, \"Duplx\" : 3, \"TwnhsE\" : 4, \"TwnhsI\": 5},\n",
    "    \"HouseStyle\" : {\"1Story\" : 1, \"1.5Fin\" : 2, \"1.5Unf\" : 3, \"2Story\" : 4, \"2.5Fin\" : 5, \"2.5Unf\" : 6, \"SFoyer\" : 7, \"SLvl\" : 8},\n",
    "    \"RoofStyle\" : {\"Flat\" : 1, \"Gable\" : 2, \"Gambrel\" : 3, \"Hip\" : 4, \"Mansard\" : 5, \"Shed\" : 6},\n",
    "    \"RoofMatl\" : {\"ClyTile\" : 1, \"CompShg\" : 2, \"Membran\" : 3, \"Metal\" : 4, \"Roll\" : 5, \"Tar&Grv\" : 6, \"WdShake\" : 7, \"WdShngl\" : 8},\n",
    "    \"Exterior1st\" : {\"AsbShng\" : 1, \"AsphShn\" : 2, \"BrkComm\" : 3, \"BrkFace\" : 4, \"CBlock\" : 5, \"CemntBd\" : 6, \"HdBoard\" : 7, \"ImStucc\" : 8, \"MetalSd\" : 9, \"Other\" : 10, \"Plywood\" : 11, \"PreCast\" : 12, \"Stone\" : 13, \"Stucco\" : 14, \"VinylSd\" : 15, \"Wd Sdng\" : 16, \"WdShing\" : 17},\n",
    "    \"Exterior2nd\" : {\"AsbShng\" : 1, \"AsphShn\" : 2, \"BrkComm\" : 3, \"BrkFace\" : 4, \"CBlock\" : 5, \"CemntBd\" : 6, \"HdBoard\" : 7, \"ImStucc\" : 8, \"MetalSd\" : 9, \"Other\" : 10, \"Plywood\" : 11, \"PreCast\" : 12, \"Stone\" : 13, \"Stucco\" : 14, \"VinylSd\" : 15, \"Wd Sdng\" : 16, \"WdShing\" : 17},\n",
    "    \"MasVnrType\" : {\"BrkCmn\" : 1, \"BrkFace\" : 2, \"CBlock\" : 3, \"None\" : 4, \"Stone\": 5, \"NA\": 6},\n",
    "    \"ExterQual\" : {\"Po\" : 1, \"Fa\" : 2, \"TA\": 3, \"Gd\": 4, \"Ex\" : 5},\n",
    "    \"ExterCond\" : {\"Po\" : 1, \"Fa\" : 2, \"TA\": 3, \"Gd\": 4, \"Ex\" : 5},\n",
    "    \"Foundation\" : {\"BrkTil\" : 1, \"CBlock\" : 2, \"PConc\" : 3, \"Slab\" : 4, \"Stone\" : 5, \"Wood\" : 6},\n",
    "    \"BsmtQual\" : {\"NA\" : 0, \"Po\" : 1, \"Fa\" : 2, \"TA\": 3, \"Gd\" : 4, \"Ex\" : 5},\n",
    "    \"BsmtCond\" : {\"NA\" : 0, \"Po\" : 1, \"Fa\" : 2, \"TA\" : 3, \"Gd\" : 4, \"Ex\" : 5},\n",
    "    \"BsmtExposure\" : {\"No\" : 0, \"Mn\" : 1, \"Av\": 2, \"Gd\" : 3, \"NA\": 4},\n",
    "    \"BsmtFinType1\" : {\"NA\" : 0, \"Unf\" : 1, \"LwQ\": 2, \"Rec\" : 3, \"BLQ\" : 4, \"ALQ\" : 5, \"GLQ\" : 6},\n",
    "    \"BsmtFinType2\" : {\"NA\" : 0, \"Unf\" : 1, \"LwQ\": 2, \"Rec\" : 3, \"BLQ\" : 4, \"ALQ\" : 5, \"GLQ\" : 6},\n",
    "    \"Heating\" : {\"Floor\" : 1, \"GasA\" : 2, \"GasW\": 3, \"Grav\" : 4, \"OthW\" : 5, \"Wall\" : 6},\n",
    "    \"HeatingQC\" : {\"Po\" : 1, \"Fa\" : 2, \"TA\" : 3, \"Gd\" : 4, \"Ex\" : 5},\n",
    "    \"CentralAir\" : {\"N\" : 0, \"Y\" : 1},\n",
    "    \"Electrical\" : {\"SBrkr\" : 1, \"FuseA\" : 2, \"FuseF\" : 3, \"FuseP\" : 4, \"Mix\" : 5},\n",
    "    \"KitchenQual\" : {\"Po\" : 1, \"Fa\" : 2, \"TA\" : 3, \"Gd\" : 4, \"Ex\" : 5},\n",
    "    \"Functional\" : {\"Sal\" : 1, \"Sev\" : 2, \"Maj2\" : 3, \"Maj1\" : 4, \"Mod\": 5, \"Min2\" : 6, \"Min1\" : 7, \"Typ\" : 8},                       \n",
    "    \"FireplaceQu\" : {\"NA\" : 1, \"Po\" : 2, \"Fa\" : 3, \"TA\" : 4, \"Gd\" : 5, \"Ex\" : 6},\n",
    "    \"GarageType\" : {\"2Types\" : 1, \"Attchd\" : 2, \"Basment\" : 3, \"BuiltIn\" : 4, \"CarPort\": 5, \"Detchd\" : 6, \"NA\" : 7},\n",
    "    \"GarageFinish\" : {\"Fin\" : 1, \"RFn\" : 2, \"Unf\" : 3, \"NA\" : 4},\n",
    "    \"GarageQual\" : {\"NA\" : 0, \"Po\" : 1, \"Fa\" : 2, \"TA\" : 3, \"Gd\" : 4, \"Ex\" : 5},\n",
    "    \"GarageCond\" : {\"NA\" : 0, \"Po\" : 1, \"Fa\" : 2, \"TA\" : 3, \"Gd\" : 4, \"Ex\" : 5},\n",
    "    \"PavedDrive\" : {\"N\" : 0, \"P\" : 1, \"Y\" : 2},\n",
    "    \"SaleType\" : {\"WD\" : 1, \"CWD\" : 2, \"VWD\" : 3, \"New\" : 4, \"COD\" : 5, \"Con\" : 6, \"ConLw\" : 7, \"ConLI\" : 8, \"ConLD\" : 9, \"Oth\": 10},\n",
    "    \"SaleCondition\" : {\"Normal\" : 1, \"Abnorml\" : 2, \"AdjLand\": 3, \"Alloca\" : 4, \"Family\" : 5, \"Partial\" : 6}\n",
    "    }\n",
    ")"
   ]
  },
  {
   "cell_type": "markdown",
   "metadata": {},
   "source": [
    "## 4.5 Final Check"
   ]
  },
  {
   "cell_type": "markdown",
   "metadata": {},
   "source": [
    "After all that pre-processing, we do a final check for missing data."
   ]
  },
  {
   "cell_type": "code",
   "execution_count": null,
   "metadata": {},
   "outputs": [],
   "source": [
    "# Compute the total number and percentage of missing data per variable\n",
    "total = housing.isna().sum().sort_values(ascending=False)\n",
    "percent = (housing.isna().sum()/housing.isna().count()).sort_values(ascending=False)\n",
    "\n",
    "# Display in a table\n",
    "missing_data = pd.concat([total, percent], axis=1, keys=['Total', 'Percent'])\n",
    "missing_data.head(5)"
   ]
  },
  {
   "cell_type": "markdown",
   "metadata": {},
   "source": [
    "---"
   ]
  },
  {
   "cell_type": "markdown",
   "metadata": {},
   "source": [
    "# 5 Statistical Analysis "
   ]
  },
  {
   "cell_type": "markdown",
   "metadata": {},
   "source": [
    "## 5.1 Establishing Correlation between SalePrice and Other Features"
   ]
  },
  {
   "cell_type": "markdown",
   "metadata": {},
   "source": [
    "### 5.1.1 Establishing the Most Important Features"
   ]
  },
  {
   "cell_type": "markdown",
   "metadata": {},
   "source": [
    "### 5.1.2 Visualising with a Heatmap"
   ]
  },
  {
   "cell_type": "markdown",
   "metadata": {},
   "source": [
    "### 5.1.3 Visualising with a Scatterplot"
   ]
  },
  {
   "cell_type": "markdown",
   "metadata": {},
   "source": [
    "## 5.2 Deep Dive into `SalePrice`"
   ]
  },
  {
   "cell_type": "markdown",
   "metadata": {},
   "source": [
    "---"
   ]
  },
  {
   "cell_type": "markdown",
   "metadata": {},
   "source": [
    "# 6 Model Development"
   ]
  },
  {
   "cell_type": "markdown",
   "metadata": {},
   "source": [
    "## 6.1 Train and Test Splits"
   ]
  },
  {
   "cell_type": "markdown",
   "metadata": {},
   "source": [
    "## 6.2 Linear Regression"
   ]
  },
  {
   "cell_type": "markdown",
   "metadata": {},
   "source": [
    "## 6.3 Logistic Regression"
   ]
  },
  {
   "cell_type": "markdown",
   "metadata": {},
   "source": [
    "## 6.4 Random Forest"
   ]
  },
  {
   "cell_type": "markdown",
   "metadata": {},
   "source": [
    "## 6.5 Support Vector Machine"
   ]
  },
  {
   "cell_type": "markdown",
   "metadata": {},
   "source": [
    "---"
   ]
  },
  {
   "cell_type": "markdown",
   "metadata": {},
   "source": [
    "## 7 Model Evaluation"
   ]
  },
  {
   "cell_type": "markdown",
   "metadata": {},
   "source": [
    "---"
   ]
  },
  {
   "cell_type": "markdown",
   "metadata": {},
   "source": [
    "# 8 Project Evaluation"
   ]
  },
  {
   "cell_type": "markdown",
   "metadata": {},
   "source": [
    "## 8.1 Summary"
   ]
  },
  {
   "cell_type": "markdown",
   "metadata": {},
   "source": [
    "## 8.2 Results between Models"
   ]
  },
  {
   "cell_type": "markdown",
   "metadata": {},
   "source": [
    "## 8.3 Reproducibility"
   ]
  },
  {
   "cell_type": "markdown",
   "metadata": {},
   "source": []
  },
  {
   "cell_type": "markdown",
   "metadata": {},
   "source": []
  },
  {
   "cell_type": "markdown",
   "metadata": {},
   "source": []
  },
  {
   "cell_type": "markdown",
   "metadata": {},
   "source": []
  }
 ],
 "metadata": {
  "kernelspec": {
   "display_name": "venv",
   "language": "python",
   "name": "python3"
  },
  "language_info": {
   "codemirror_mode": {
    "name": "ipython",
    "version": 3
   },
   "file_extension": ".py",
   "mimetype": "text/x-python",
   "name": "python",
   "nbconvert_exporter": "python",
   "pygments_lexer": "ipython3",
   "version": "3.9.6"
  }
 },
 "nbformat": 4,
 "nbformat_minor": 2
}
